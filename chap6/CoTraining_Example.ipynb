{
 "cells": [
  {
   "cell_type": "markdown",
   "id": "80488945",
   "metadata": {},
   "source": [
    "# Phân loại bán giám sát 2-View đồng đào tạo (Co-Training)\n",
    "# Semi-Supervised Learning with Co-Training (2-View)"
   ]
  },
  {
   "cell_type": "code",
   "execution_count": null,
   "id": "2baeaea3",
   "metadata": {},
   "outputs": [],
   "source": [
    "import numpy as np\n",
    "from sklearn.naive_bayes import GaussianNB\n",
    "from sklearn.model_selection import train_test_split\n",
    "from sklearn.metrics import accuracy_score\n",
    "from sklearn.ensemble import RandomForestClassifier\n",
    "\n",
    "from mvlearn.semi_supervised import CTClassifier\n",
    "from mvlearn.datasets import load_UCImultifeature"
   ]
  },
  {
   "cell_type": "markdown",
   "id": "30739c26",
   "metadata": {},
   "source": [
    "Tải Bộ dữ liệu tính năng nhiều chữ số UCI làm ví dụ cho học bán giám sát\n",
    "Để mô phỏng tình huống học bán giám sát, hãy xóa ngẫu nhiên 98% nhãn."
   ]
  },
  {
   "cell_type": "code",
   "execution_count": null,
   "id": "0e10e516",
   "metadata": {},
   "outputs": [],
   "source": [
    "# Load multi-view dataset (only 2 classes for simplicity)\n",
    "data, labels = load_UCImultifeature(select_labeled=[0, 1])\n",
    "View0, View1 = data[0], data[1]\n",
    "\n",
    "# Train-test split\n",
    "View0_train, View0_test, labels_train, labels_test = train_test_split(View0, labels, test_size=0.33, random_state=42)\n",
    "View1_train, View1_test, labels_train, labels_test = train_test_split(View1, labels, test_size=0.33, random_state=42)\n",
    "\n",
    "# Randomly remove 98% of the labels\n",
    "np.random.seed(6)\n",
    "remove_idx = np.random.rand(len(labels_train)) < 0.98\n",
    "labels_train[remove_idx] = np.nan\n",
    "not_removed = np.where(~remove_idx)\n",
    "print(\"Remaining labeled sample labels:\", labels_train[not_removed])"
   ]
  },
  {
   "cell_type": "markdown",
   "id": "da9b72a0",
   "metadata": {},
   "source": [
    "Đào tạo đồng thời trên 2 chế độ xem so với chế độ xem đơn Học bán giám sát\n",
    "Ở đây, chúng tôi sử dụng bộ phân loại đồng đào tạo mặc định, sử dụng bộ phân loại Gaussian naive bayes cho cả hai chế độ xem. Chúng tôi so sánh hiệu suất của nó với thiết lập bán giám sát chế độ xem đơn với cùng bộ phân loại cơ bản và với kỹ thuật ngây thơ là ghép nối hai chế độ xem và thực hiện học chế độ xem đơn.\n",
    "\n",
    "Trong trường hợp này, việc nối hai chế độ xem không cải thiện hiệu suất so với chế độ xem tốt hơn. Đồng đào tạo nhiều chế độ xem vượt trội hơn tất cả."
   ]
  },
  {
   "cell_type": "code",
   "execution_count": null,
   "id": "e4f780b7",
   "metadata": {},
   "outputs": [],
   "source": [
    "# Train GaussianNB on individual views and combined view\n",
    "gnb0 = GaussianNB()\n",
    "gnb1 = GaussianNB()\n",
    "gnb2 = GaussianNB()\n",
    "\n",
    "gnb0.fit(View0_train[not_removed].squeeze(), labels_train[not_removed])\n",
    "y_pred0 = gnb0.predict(View0_test)\n",
    "\n",
    "gnb1.fit(View1_train[not_removed].squeeze(), labels_train[not_removed])\n",
    "y_pred1 = gnb1.predict(View1_test)\n",
    "\n",
    "View01_train = np.hstack((View0_train[not_removed].squeeze(), View1_train[not_removed].squeeze()))\n",
    "View01_test = np.hstack((View0_test, View1_test))\n",
    "gnb2.fit(View01_train, labels_train[not_removed])\n",
    "y_pred2 = gnb2.predict(View01_test)\n",
    "\n",
    "print(\"Single View Accuracy (View 0):\", accuracy_score(labels_test, y_pred0))\n",
    "print(\"Single View Accuracy (View 1):\", accuracy_score(labels_test, y_pred1))\n",
    "print(\"Naive Concatenated View Accuracy:\", accuracy_score(labels_test, y_pred2))"
   ]
  },
  {
   "cell_type": "code",
   "execution_count": null,
   "id": "8310be51",
   "metadata": {},
   "outputs": [],
   "source": [
    "# Co-training with GaussianNB on both views\n",
    "ctc = CTClassifier()\n",
    "ctc.fit([View0_train, View1_train], labels_train)\n",
    "y_pred_ct = ctc.predict([View0_test, View1_test])\n",
    "\n",
    "print(\"Co-Training Accuracy (GaussianNB):\", accuracy_score(labels_test, y_pred_ct))"
   ]
  },
  {
   "cell_type": "markdown",
   "id": "3f853b18",
   "metadata": {},
   "source": [
    "OUTPUT:\n",
    "Độ chính xác của chế độ xem đơn ở chế độ xem đầu tiên: 0,568\n",
    "\n",
    "Độ chính xác của chế độ xem đơn trên chế độ xem thứ hai: 0,591\n",
    "\n",
    "Độ chính xác của chế độ xem nối tiếp ngây thơ: 0,591\n",
    "\n",
    "Độ chính xác của Co-Training trên 2 Lượt xem: 0.992"
   ]
  },
  {
   "cell_type": "markdown",
   "id": "7b2c05cd",
   "metadata": {},
   "source": [
    "Chọn các Bộ phân loại cơ sở khác nhau cho các chế độ xem và thay đổi các tham số fit() của CTClassifier\n",
    "Bây giờ, chúng tôi sử dụng bộ phân loại rừng ngẫu nhiên với các thuộc tính khác nhau cho mỗi chế độ xem. Hơn nữa, chúng tôi chọn thủ công số lượng ví dụ dương (p) và âm (n) được chọn trong mỗi vòng trong quá trình đồng đào tạo và chúng tôi xác định kích thước nhóm không có nhãn để rút chúng ra và số lần lặp lại đào tạo để thực hiện.\n",
    "\n",
    "Trong trường hợp này, việc nối hai chế độ xem sẽ hiệu quả hơn các phương pháp chế độ xem đơn, nhưng đào tạo đồng thời nhiều chế độ xem vẫn hiệu quả nhất."
   ]
  },
  {
   "cell_type": "code",
   "execution_count": null,
   "id": "e2587506",
   "metadata": {},
   "outputs": [],
   "source": [
    "# Use RandomForestClassifier for a new comparison\n",
    "rfc0 = RandomForestClassifier(n_estimators=100, bootstrap=True)\n",
    "rfc1 = RandomForestClassifier(n_estimators=6, bootstrap=False)\n",
    "rfc2 = RandomForestClassifier(n_estimators=100, bootstrap=False)\n",
    "\n",
    "rfc0.fit(View0_train[not_removed].squeeze(), labels_train[not_removed])\n",
    "y_pred0 = rfc0.predict(View0_test)\n",
    "\n",
    "rfc1.fit(View1_train[not_removed].squeeze(), labels_train[not_removed])\n",
    "y_pred1 = rfc1.predict(View1_test)\n",
    "\n",
    "rfc2.fit(View01_train, labels_train[not_removed])\n",
    "y_pred2 = rfc2.predict(View01_test)\n",
    "\n",
    "print(\"Single View Accuracy (View 0):\", accuracy_score(labels_test, y_pred0))\n",
    "print(\"Single View Accuracy (View 1):\", accuracy_score(labels_test, y_pred1))\n",
    "print(\"Naive Concatenated View Accuracy:\", accuracy_score(labels_test, y_pred2))"
   ]
  },
  {
   "cell_type": "code",
   "execution_count": null,
   "id": "a8204b6f",
   "metadata": {},
   "outputs": [],
   "source": [
    "# Co-training with RandomForestClassifier and custom parameters\n",
    "rfc0 = RandomForestClassifier(n_estimators=100, bootstrap=True)\n",
    "rfc1 = RandomForestClassifier(n_estimators=6, bootstrap=False)\n",
    "ctc = CTClassifier(rfc0, rfc1, p=2, n=2, unlabeled_pool_size=20, num_iter=100)\n",
    "ctc.fit([View0_train, View1_train], labels_train)\n",
    "y_pred_ct = ctc.predict([View0_test, View1_test])\n",
    "\n",
    "print(\"Co-Training Accuracy (RandomForest):\", accuracy_score(labels_test, y_pred_ct))"
   ]
  },
  {
   "cell_type": "markdown",
   "id": "c6b7d724",
   "metadata": {},
   "source": [
    "Độ chính xác của chế độ xem đơn ở chế độ xem đầu tiên: 0,902\n",
    "\n",
    "Độ chính xác của chế độ xem đơn trên chế độ xem thứ hai: 0,871\n",
    "\n",
    "Độ chính xác của chế độ xem nối tiếp ngây thơ: 0,977\n",
    "\n",
    "Độ chính xác của đào tạo đồng thời: 0,992\n",
    "Nhận xác suất dự đoán cho tất cả các ví dụ"
   ]
  },
  {
   "cell_type": "code",
   "execution_count": null,
   "id": "82adec31",
   "metadata": {},
   "outputs": [],
   "source": [
    "# Predict probabilities for the test set\n",
    "y_pred_proba = ctc.predict_proba([View0_test, View1_test])\n",
    "print(\"Shape of predicted probabilities:\", y_pred_proba.shape)\n",
    "print(\"First 10 predicted class probabilities:\")\n",
    "print(y_pred_proba[:10, :])"
   ]
  },
  {
   "cell_type": "markdown",
   "id": "598b6a61",
   "metadata": {},
   "source": [
    "\n",
    "Hình dạng y_proba đầy đủ = (132, 2)\n",
    "\n",
    "Xác suất của 10 lớp đầu tiên:\n",
    "\n",
    "[[1. 0. ]\n",
    " [0,945 0,055 ]\n",
    " [0,005 0,995 ]\n",
    " [0,09 0,91 ]\n",
    " [0,16833333 0,83166667]\n",
    " [0,995 0,005 ]\n",
    " [0,955 0,045 ]\n",
    " [0,955 0,045 ]\n",
    " [0,28 0,72 ]\n",
    " [0,925 0,075 ]]"
   ]
  }
 ],
 "metadata": {
  "language_info": {
   "name": "python"
  }
 },
 "nbformat": 4,
 "nbformat_minor": 5
}
